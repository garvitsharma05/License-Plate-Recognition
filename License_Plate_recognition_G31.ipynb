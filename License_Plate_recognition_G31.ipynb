{
  "nbformat": 4,
  "nbformat_minor": 0,
  "metadata": {
    "colab": {
      "name": "License-Plate_recognition_G31.ipynb",
      "provenance": []
    },
    "kernelspec": {
      "name": "python3",
      "display_name": "Python 3"
    }
  },
  "cells": [
    {
      "cell_type": "code",
      "metadata": {
        "id": "AeC6kEeS2p7O"
      },
      "source": [
        "import cv2\r\n",
        "import imutils\r\n",
        "import numpy as np\r\n",
        "import pytesseract\r\n",
        "pytesseract.pytesseract.tesseract_cmd = r'C:\\Program Files\\Tesseract-OCR\\tesseract.exe'\r\n",
        "\r\n",
        "img = cv2.imread(r'C:\\Users\\deepak\\Desktop\\s2.JPG',cv2.IMREAD_COLOR)\r\n",
        "img = cv2.resize(img, (500,300) )\r\n",
        "\r\n",
        "gray = cv2.cvtColor(img, cv2.COLOR_BGR2GRAY) \r\n",
        "gray = cv2.bilateralFilter(gray, 13, 15, 15) \r\n",
        "\r\n",
        "edged = cv2.Canny(gray, 30, 200) \r\n",
        "contours = cv2.findContours(edged.copy(), cv2.RETR_TREE, cv2.CHAIN_APPROX_SIMPLE)\r\n",
        "contours = imutils.grab_contours(contours)\r\n",
        "contours = sorted(contours, key = cv2.contourArea, reverse = True)[:10]\r\n",
        "screenCnt = None\r\n",
        "\r\n",
        "for c in contours:\r\n",
        "    \r\n",
        "    peri = cv2.arcLength(c, True)\r\n",
        "    approx = cv2.approxPolyDP(c, 0.018 * peri, True)\r\n",
        " \r\n",
        "    if len(approx) == 4:\r\n",
        "        screenCnt = approx\r\n",
        "        break\r\n",
        "\r\n",
        "if screenCnt is None:\r\n",
        "    detected = 0\r\n",
        "    print (\"No contour detected\")\r\n",
        "else:\r\n",
        "     detected = 1\r\n",
        "\r\n",
        "if detected == 1:\r\n",
        "    cv2.drawContours(img, [screenCnt], -1, (0, 0, 255), 3)\r\n",
        "\r\n",
        "mask = np.zeros(gray.shape,np.uint8)\r\n",
        "new_image = cv2.drawContours(mask,[screenCnt],0,255,-1,)\r\n",
        "new_image = cv2.bitwise_and(img,img,mask=mask)\r\n",
        "\r\n",
        "(x, y) = np.where(mask == 255)\r\n",
        "(topx, topy) = (np.min(x), np.min(y))\r\n",
        "(bottomx, bottomy) = (np.max(x), np.max(y))\r\n",
        "Cropped = gray[topx:bottomx+1, topy:bottomy+1]\r\n",
        "\r\n",
        "text = pytesseract.image_to_string(Cropped, config='--psm 11')\r\n",
        "print(\"License Plate Recognition\\n\")\r\n",
        "print(\"Detected license plate Number is:\",text)\r\n",
        "img = cv2.resize(img,(500,300))\r\n",
        "Cropped = cv2.resize(Cropped,(400,200))\r\n",
        "cv2.imshow('car',img)\r\n",
        "cv2.imshow('Cropped',Cropped)\r\n",
        "\r\n",
        "cv2.waitKey(0)\r\n",
        "cv2.destroyAllWindows()"
      ],
      "execution_count": null,
      "outputs": []
    }
  ]
}